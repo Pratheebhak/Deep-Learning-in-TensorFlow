{
  "nbformat": 4,
  "nbformat_minor": 0,
  "metadata": {
    "colab": {
      "name": "linear_regression.ipynb",
      "provenance": [],
      "collapsed_sections": []
    },
    "kernelspec": {
      "name": "python3",
      "display_name": "Python 3"
    }
  },
  "cells": [
    {
      "cell_type": "code",
      "metadata": {
        "id": "e_IKe3dUxVY5"
      },
      "source": [
        "!pip install tensorflow==1.14"
      ],
      "execution_count": null,
      "outputs": []
    },
    {
      "cell_type": "code",
      "metadata": {
        "id": "v5wAMCf_xuYy"
      },
      "source": [
        "import warnings\r\n",
        "warnings.filterwarnings('ignore')"
      ],
      "execution_count": 1,
      "outputs": []
    },
    {
      "cell_type": "code",
      "metadata": {
        "id": "QX137bbMwhhu"
      },
      "source": [
        "import time\r\n",
        "\r\n",
        "import numpy\r\n",
        "import tensorflow as tf\r\n",
        "import tensorflow.contrib.eager as tfe\r\n",
        "tfe.enable_eager_execution()\r\n",
        "import matplotlib.pyplot as plt"
      ],
      "execution_count": 2,
      "outputs": []
    },
    {
      "cell_type": "code",
      "metadata": {
        "id": "alQSCCgduEST",
        "colab": {
          "base_uri": "https://localhost:8080/",
          "height": 639
        },
        "outputId": "23c9cc90-d593-4218-a899-4b51add3dd01"
      },
      "source": [
        "# Linear Regression with loss function, L2(Mean Squared Loss)\n",
        "\n",
        "tf.set_random_seed(80)\n",
        "numpy.random.seed(80)\n",
        "\n",
        "# Create data\n",
        "NUM_EXAMPLES = 10000\n",
        "\n",
        "#define inputs and outputs with some noise \n",
        "X = tf.random_normal([NUM_EXAMPLES])  #inputs \n",
        "noise = tf.random_normal([NUM_EXAMPLES]) #noise \n",
        "y = X * 3 + 2 + noise  #true output\n",
        "\n",
        "# Create variables.\n",
        "W = tf.Variable(0.)\n",
        "b = tf.Variable(0.)\n",
        "\n",
        "train_steps = 20000\n",
        "learning_rate = 0.001\n",
        "\n",
        "for i in range(train_steps):\n",
        "  #watch the gradient flow\n",
        "  with tf.GradientTape() as tape:\n",
        "    #forward pass\n",
        "    y_predicted = X * W + b\n",
        "    #calcuate the loss (difference squared error)\n",
        "    error = y_predicted - y\n",
        "    loss = tf.reduce_mean(tf.square(error))\n",
        "\n",
        "  #evalute the gradient with the respect to the paramters\n",
        "  dW, db = tape.gradient(loss, [W, b])\n",
        "\n",
        "  #update the parameters using Gradient Descent\n",
        "  W.assign_sub(dW * learning_rate)\n",
        "  b.assign_sub(db* learning_rate)\n",
        "\n",
        "\n",
        "  if i % 1000 == 0:\n",
        "    print(\"Loss at step {}: {:.3f}\".format(i, loss))\n",
        "\n",
        "print(f'W : {W.numpy()} , b = {b.numpy()} ')\n",
        "\n",
        "plt.plot(X, y, 'bo',label='org')\n",
        "plt.plot(X, y * W.numpy() + b.numpy(), 'r',\n",
        "         label=\"huber regression\")\n",
        "plt.legend()\n",
        "plt.show"
      ],
      "execution_count": 3,
      "outputs": [
        {
          "output_type": "stream",
          "text": [
            "Loss at step 0: 13.912\n",
            "Loss at step 1000: 1.243\n",
            "Loss at step 2000: 1.006\n",
            "Loss at step 3000: 1.002\n",
            "Loss at step 4000: 1.002\n",
            "Loss at step 5000: 1.002\n",
            "Loss at step 6000: 1.002\n",
            "Loss at step 7000: 1.002\n",
            "Loss at step 8000: 1.002\n",
            "Loss at step 9000: 1.002\n",
            "Loss at step 10000: 1.002\n",
            "Loss at step 11000: 1.002\n",
            "Loss at step 12000: 1.002\n",
            "Loss at step 13000: 1.002\n",
            "Loss at step 14000: 1.002\n",
            "Loss at step 15000: 1.002\n",
            "Loss at step 16000: 1.002\n",
            "Loss at step 17000: 1.002\n",
            "Loss at step 18000: 1.002\n",
            "Loss at step 19000: 1.002\n",
            "W : 3.002567768096924 , b = 1.9934000968933105 \n"
          ],
          "name": "stdout"
        },
        {
          "output_type": "execute_result",
          "data": {
            "text/plain": [
              "<function matplotlib.pyplot.show>"
            ]
          },
          "metadata": {
            "tags": []
          },
          "execution_count": 3
        },
        {
          "output_type": "display_data",
          "data": {
            "image/png": "[encoded data removed]",
            "text/plain": [
              "<Figure size 432x288 with 1 Axes>"
            ]
          },
          "metadata": {
            "tags": [],
            "needs_background": "light"
          }
        }
      ]
    },
    {
      "cell_type": "code",
      "metadata": {
        "id": "AYr7KNDh0qI2",
        "colab": {
          "base_uri": "https://localhost:8080/",
          "height": 726
        },
        "outputId": "e64e2558-cda2-4fbd-977d-bbeb20226a89"
      },
      "source": [
        "# Linear Regression with loss function, L1 loss\n",
        "\n",
        "tf.set_random_seed(111)\n",
        "numpy.random.seed(111)\n",
        "\n",
        "# Create data\n",
        "NUM_EXAMPLES = 10000\n",
        "\n",
        "#define inputs and outputs with some noise \n",
        "X = tf.random_normal([NUM_EXAMPLES])  #inputs \n",
        "noise = tf.random_normal([NUM_EXAMPLES]) #noise \n",
        "y = X * 3 + 2 + noise  #true output\n",
        "\n",
        "# Create variables.\n",
        "W = tf.Variable(0.)\n",
        "b = tf.Variable(0.)\n",
        "\n",
        "train_steps = 50000\n",
        "learning_rate = 0.001\n",
        "\n",
        "for i in range(train_steps):\n",
        "  #watch the gradient flow\n",
        "  with tf.GradientTape() as tape:\n",
        "    #forward pass\n",
        "    y_predicted = X * W + b\n",
        "    #calcuate the loss (difference squared error)\n",
        "    error = y_predicted - y\n",
        "    loss = tf.reduce_mean(tf.abs(error))\n",
        "\n",
        "  #evalute the gradient with the respect to the paramters\n",
        "  dW, db = tape.gradient(loss, [W, b])\n",
        "\n",
        "  #update the parameters using Gradient Descent\n",
        "  W.assign_sub(dW * learning_rate)\n",
        "  b.assign_sub(db* learning_rate)\n",
        "\n",
        "\n",
        "  if i % 2000 == 0:\n",
        "    print(\"Loss at step {}: {:.3f}\".format(i, loss))\n",
        "\n",
        "print(f'W : {W.numpy()} , b = {b.numpy()} ')\n",
        "\n",
        "plt.plot(X, y, 'bo',label='org')\n",
        "plt.plot(X, y * W.numpy() + b.numpy(), 'r',\n",
        "         label=\"huber regression\")\n",
        "plt.legend()\n",
        "plt.show"
      ],
      "execution_count": 4,
      "outputs": [
        {
          "output_type": "stream",
          "text": [
            "Loss at step 0: 2.992\n",
            "Loss at step 2000: 1.865\n",
            "Loss at step 4000: 1.045\n",
            "Loss at step 6000: 0.824\n",
            "Loss at step 8000: 0.809\n",
            "Loss at step 10000: 0.809\n",
            "Loss at step 12000: 0.809\n",
            "Loss at step 14000: 0.809\n",
            "Loss at step 16000: 0.809\n",
            "Loss at step 18000: 0.809\n",
            "Loss at step 20000: 0.809\n",
            "Loss at step 22000: 0.809\n",
            "Loss at step 24000: 0.809\n",
            "Loss at step 26000: 0.809\n",
            "Loss at step 28000: 0.809\n",
            "Loss at step 30000: 0.809\n",
            "Loss at step 32000: 0.809\n",
            "Loss at step 34000: 0.809\n",
            "Loss at step 36000: 0.809\n",
            "Loss at step 38000: 0.809\n",
            "Loss at step 40000: 0.809\n",
            "Loss at step 42000: 0.809\n",
            "Loss at step 44000: 0.809\n",
            "Loss at step 46000: 0.809\n",
            "Loss at step 48000: 0.809\n",
            "W : 3.0069191455841064 , b = 1.9853187799453735 \n"
          ],
          "name": "stdout"
        },
        {
          "output_type": "execute_result",
          "data": {
            "text/plain": [
              "<function matplotlib.pyplot.show>"
            ]
          },
          "metadata": {
            "tags": []
          },
          "execution_count": 4
        },
        {
          "output_type": "display_data",
          "data": {
            "image/png": "[encoded data removed]",
            "text/plain": [
              "<Figure size 432x288 with 1 Axes>"
            ]
          },
          "metadata": {
            "tags": [],
            "needs_background": "light"
          }
        }
      ]
    },
    {
      "cell_type": "code",
      "metadata": {
        "id": "mXUDh4Ev1EW3",
        "colab": {
          "base_uri": "https://localhost:8080/",
          "height": 710
        },
        "outputId": "eb46e338-2fc4-4075-de3c-928c3c08d548"
      },
      "source": [
        "# Linear Regression with loss function, hybrid loss, loss = L1 + L2 loss\n",
        "\n",
        "tf.set_random_seed(80)\n",
        "numpy.random.seed(80)\n",
        "\n",
        "# Create data\n",
        "NUM_EXAMPLES = 10000\n",
        "\n",
        "#define inputs and outputs with some noise \n",
        "X = tf.random_normal([NUM_EXAMPLES])  #inputs \n",
        "noise = tf.random_normal([NUM_EXAMPLES]) #noise \n",
        "y = X * 3 + 2 + noise  #true output\n",
        "\n",
        "# Create variables.\n",
        "W = tf.Variable(0.)\n",
        "b = tf.Variable(0.)\n",
        "\n",
        "train_steps = 20000\n",
        "learning_rate = 0.001\n",
        "\n",
        "for i in range(train_steps):\n",
        "  #watch the gradient flow\n",
        "  with tf.GradientTape() as tape:\n",
        "    #forward pass\n",
        "    y_predicted = X * W + b\n",
        "    #calcuate the loss (difference squared error)\n",
        "    error = (y_predicted - y) + (y_predicted - y)**2\n",
        "    loss = tf.reduce_mean((error))\n",
        "\n",
        "  #evalute the gradient with the respect to the paramters\n",
        "  dW, db = tape.gradient(loss, [W, b])\n",
        "\n",
        "  #update the parameters using Gradient Descent\n",
        "  W.assign_sub(dW * learning_rate)\n",
        "  b.assign_sub(db* learning_rate)\n",
        "\n",
        "\n",
        "  if i % 1000 == 0:\n",
        "    print(\"Loss at step {}: {:.3f}\".format(i, loss))\n",
        "\n",
        "print(f'W : {W.numpy()} , b = {b.numpy()} ')\n",
        "\n",
        "plt.plot(X, y, 'bo',label='org')\n",
        "plt.plot(X, y * W.numpy() + b.numpy(), 'r',\n",
        "         label=\"huber regression\")\n",
        "plt.legend()\n",
        "plt.show"
      ],
      "execution_count": 5,
      "outputs": [
        {
          "output_type": "stream",
          "text": [
            "WARNING:tensorflow:From /usr/local/lib/python3.7/dist-packages/tensorflow/python/ops/math_grad.py:1205: add_dispatch_support.<locals>.wrapper (from tensorflow.python.ops.array_ops) is deprecated and will be removed in a future version.\n",
            "Instructions for updating:\n",
            "Use tf.where in 2.0, which has the same broadcast rule as np.where\n",
            "Loss at step 0: 11.945\n",
            "Loss at step 1000: 0.960\n",
            "Loss at step 2000: 0.756\n",
            "Loss at step 3000: 0.752\n",
            "Loss at step 4000: 0.752\n",
            "Loss at step 5000: 0.752\n",
            "Loss at step 6000: 0.752\n",
            "Loss at step 7000: 0.752\n",
            "Loss at step 8000: 0.752\n",
            "Loss at step 9000: 0.752\n",
            "Loss at step 10000: 0.752\n",
            "Loss at step 11000: 0.752\n",
            "Loss at step 12000: 0.752\n",
            "Loss at step 13000: 0.752\n",
            "Loss at step 14000: 0.752\n",
            "Loss at step 15000: 0.752\n",
            "Loss at step 16000: 0.752\n",
            "Loss at step 17000: 0.752\n",
            "Loss at step 18000: 0.752\n",
            "Loss at step 19000: 0.752\n",
            "W : 3.002567768096924 , b = 1.4934000968933105 \n"
          ],
          "name": "stdout"
        },
        {
          "output_type": "execute_result",
          "data": {
            "text/plain": [
              "<function matplotlib.pyplot.show>"
            ]
          },
          "metadata": {
            "tags": []
          },
          "execution_count": 5
        },
        {
          "output_type": "display_data",
          "data": {
            "image/png": "[encoded data removed]",
            "text/plain": [
              "<Figure size 432x288 with 1 Axes>"
            ]
          },
          "metadata": {
            "tags": [],
            "needs_background": "light"
          }
        }
      ]
    },
    {
      "cell_type": "code",
      "metadata": {
        "id": "1OUcsTOjDhtA",
        "colab": {
          "base_uri": "https://localhost:8080/",
          "height": 639
        },
        "outputId": "a79c948c-e3e3-4ae5-ba2e-2fcdbe568f82"
      },
      "source": [
        "# Linear Regression with loss function, hybrid loss, loss = L1 + L2 loss, different seed, weights and bias are randomnly initialized\n",
        "\n",
        "tf.set_random_seed(120)\n",
        "numpy.random.seed(120)\n",
        "\n",
        "# Create data\n",
        "NUM_EXAMPLES = 10000\n",
        "\n",
        "#define inputs and outputs with some noise \n",
        "X = tf.random_normal([NUM_EXAMPLES])  #inputs \n",
        "noise = tf.random_normal([NUM_EXAMPLES]) #noise \n",
        "y = X * 3 + 2 + noise  #true output\n",
        "\n",
        "# Create variables.\n",
        "W = tf.Variable(numpy.random.randn)\n",
        "b = tf.Variable(numpy.random.randn)\n",
        "\n",
        "train_steps = 20000\n",
        "learning_rate = 0.001\n",
        "\n",
        "for i in range(train_steps):\n",
        "  #watch the gradient flow\n",
        "  with tf.GradientTape() as tape:\n",
        "    #forward pass\n",
        "    y_predicted = X * W + b\n",
        "    #calcuate the loss (difference squared error)\n",
        "    error = (y_predicted - y) + (y_predicted - y)**2\n",
        "    loss = tf.reduce_mean((error))\n",
        "\n",
        "  #evalute the gradient with the respect to the paramters\n",
        "  dW, db = tape.gradient(loss, [W, b])\n",
        "\n",
        "  #update the parameters using Gradient Descent\n",
        "  W.assign_sub(dW * learning_rate)\n",
        "  b.assign_sub(db* learning_rate)\n",
        "\n",
        "\n",
        "  if i % 1000 == 0:\n",
        "    print(\"Loss at step {}: {:.3f}\".format(i, loss))\n",
        "\n",
        "print(f'W : {W.numpy()} , b = {b.numpy()} ')\n",
        "\n",
        "plt.plot(X, y, 'bo',label='org')\n",
        "plt.plot(X, y * W.numpy() + b.numpy(), 'r',\n",
        "         label=\"huber regression\")\n",
        "plt.legend()\n",
        "plt.show"
      ],
      "execution_count": 6,
      "outputs": [
        {
          "output_type": "stream",
          "text": [
            "Loss at step 0: 9.072\n",
            "Loss at step 1000: 0.913\n",
            "Loss at step 2000: 0.761\n",
            "Loss at step 3000: 0.758\n",
            "Loss at step 4000: 0.758\n",
            "Loss at step 5000: 0.758\n",
            "Loss at step 6000: 0.758\n",
            "Loss at step 7000: 0.758\n",
            "Loss at step 8000: 0.758\n",
            "Loss at step 9000: 0.758\n",
            "Loss at step 10000: 0.758\n",
            "Loss at step 11000: 0.758\n",
            "Loss at step 12000: 0.758\n",
            "Loss at step 13000: 0.758\n",
            "Loss at step 14000: 0.758\n",
            "Loss at step 15000: 0.758\n",
            "Loss at step 16000: 0.758\n",
            "Loss at step 17000: 0.758\n",
            "Loss at step 18000: 0.758\n",
            "Loss at step 19000: 0.758\n",
            "W : 2.9888317584991455 , b = 1.5001280307769775 \n"
          ],
          "name": "stdout"
        },
        {
          "output_type": "execute_result",
          "data": {
            "text/plain": [
              "<function matplotlib.pyplot.show>"
            ]
          },
          "metadata": {
            "tags": []
          },
          "execution_count": 6
        },
        {
          "output_type": "display_data",
          "data": {
            "image/png": "[encoded data removed]",
            "text/plain": [
              "<Figure size 432x288 with 1 Axes>"
            ]
          },
          "metadata": {
            "tags": [],
            "needs_background": "light"
          }
        }
      ]
    }
  ]
}